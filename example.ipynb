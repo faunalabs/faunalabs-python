{
 "cells": [
  {
   "cell_type": "code",
   "execution_count": null,
   "id": "779048c8",
   "metadata": {},
   "outputs": [
    {
     "ename": "",
     "evalue": "",
     "output_type": "error",
     "traceback": [
      "\u001b[1;31mCanceled future for execute_request message before replies were done"
     ]
    },
    {
     "ename": "",
     "evalue": "",
     "output_type": "error",
     "traceback": [
      "\u001b[1;31mThe Kernel crashed while executing code in the the current cell or a previous cell. Please review the code in the cell(s) to identify a possible cause of the failure. Click <a href='https://aka.ms/vscodeJupyterKernelCrash'>here</a> for more info. View Jupyter <a href='command:jupyter.viewOutput'>log</a> for further details."
     ]
    }
   ],
   "source": [
    "import pandas as pd\n",
    "import ghostipy as gsp\n",
    "import numpy as np\n",
    "import matplotlib.pyplot as plt\n",
    "import os\n",
    "\n",
    "from utils.physio import physio_summary,find_peaks,generate_heart_info,generate_heart_info_all\n",
    "from utils.data import load,save"
   ]
  },
  {
   "cell_type": "code",
   "execution_count": 1,
   "id": "a84202be",
   "metadata": {},
   "outputs": [
    {
     "ename": "NameError",
     "evalue": "name 'load' is not defined",
     "output_type": "error",
     "traceback": [
      "\u001b[1;31m---------------------------------------------------------------------------\u001b[0m",
      "\u001b[1;31mNameError\u001b[0m                                 Traceback (most recent call last)",
      "\u001b[1;32mc:\\Users\\Sam Laptop\\OneDrive\\GitHub\\faunalabs-python\\example.ipynb Cell 2'\u001b[0m in \u001b[0;36m<cell line: 2>\u001b[1;34m()\u001b[0m\n\u001b[0;32m      <a href='vscode-notebook-cell:/c%3A/Users/Sam%20Laptop/OneDrive/GitHub/faunalabs-python/example.ipynb#ch0000001?line=0'>1</a>\u001b[0m file \u001b[39m=\u001b[39m \u001b[39m'\u001b[39m\u001b[39mdata/ft200_20220616_015933+12.tsv\u001b[39m\u001b[39m'\u001b[39m\n\u001b[1;32m----> <a href='vscode-notebook-cell:/c%3A/Users/Sam%20Laptop/OneDrive/GitHub/faunalabs-python/example.ipynb#ch0000001?line=1'>2</a>\u001b[0m df \u001b[39m=\u001b[39m load(file,decimate_freq\u001b[39m=\u001b[39m\u001b[39m50\u001b[39m,reload\u001b[39m=\u001b[39m\u001b[39mFalse\u001b[39;00m)\n",
      "\u001b[1;31mNameError\u001b[0m: name 'load' is not defined"
     ]
    }
   ],
   "source": [
    "file = 'data/ft200_20220616_015933+12.tsv'\n",
    "df = load(file,decimate_freq=50,reload=False)"
   ]
  },
  {
   "cell_type": "code",
   "execution_count": null,
   "id": "e1cfc56b",
   "metadata": {},
   "outputs": [],
   "source": [
    "df"
   ]
  },
  {
   "cell_type": "code",
   "execution_count": null,
   "id": "b3097b0e",
   "metadata": {},
   "outputs": [],
   "source": [
    "channels = ['AFE1','AFE2','AFE3','AFE4','A_x','G_y']\n",
    "window_length = 20\n",
    "stats_df, df = generate_heart_info_all(df,window_length,channels,advanced=False)\n",
    "save(df,file)"
   ]
  },
  {
   "cell_type": "code",
   "execution_count": null,
   "id": "6b10f669",
   "metadata": {},
   "outputs": [],
   "source": []
  },
  {
   "cell_type": "code",
   "execution_count": null,
   "id": "c02a5937",
   "metadata": {},
   "outputs": [],
   "source": [
    "start = 600\n",
    "window = 15\n",
    "plt.plot(df['time'][start*50:(start+window)*50],df['AFE3_filtered'][start*50:(start+window)*50])\n",
    "plt.plot(df['time'][start*50:(start+window)*50],df['AFE2_filtered'][start*50:(start+window)*50])\n",
    "plt.plot(df['time'][start*50:(start+window)*50],df['AFE1_filtered'][start*50:(start+window)*50])\n",
    "plt.plot(df['time'][start*50:(start+window)*50],df['A_x_filtered'][start*50:(start+window)*50])\n",
    "plt.show()"
   ]
  },
  {
   "cell_type": "code",
   "execution_count": null,
   "metadata": {},
   "outputs": [],
   "source": [
    "import heartpy as hp\n",
    "from scipy import signal\n",
    "freq = 50\n",
    "start = 20\n",
    "window = 10\n",
    "hr_low = 80\n",
    "hr_high = 200\n",
    "channels = ['AFE4']#, 'AFE2', 'AFE3', 'A_x','G_y']\n",
    "filter_order = 6\n",
    "attenuation = 0.5\n",
    "\n",
    "filter_cut = [hr_low/60,hr_high*2/60]\n",
    "print(filter_cut)\n",
    "\n",
    "for channel in channels:\n",
    "    data = df[f'{channel}_norm'][start*freq*60:(start*60+window)*freq].to_list()\n",
    "    #sos = signal.butter(filter_order, filter_cut, btype='bandpass', fs=freq,output='sos')\n",
    "    sos = signal.cheby1(filter_order, attenuation, filter_cut, 'bp', fs=freq, output='sos')\n",
    "    filtered = signal.sosfilt(sos, data)\n",
    "    try:\n",
    "        working_data, measures = hp.process(filtered, freq)\n",
    "        hp.plotter(working_data, measures)\n",
    "    except Exception as e:\n",
    "        plt.plot(filtered)\n",
    "        \n",
    "    #sos = signal.cheby1(filter_order, attenuation, filter_cut, 'bp', fs=freq, output='sos')\n",
    "    "
   ]
  },
  {
   "cell_type": "code",
   "execution_count": null,
   "id": "e483d3cb",
   "metadata": {},
   "outputs": [],
   "source": [
    "df.columns"
   ]
  },
  {
   "cell_type": "code",
   "execution_count": null,
   "id": "556193dc",
   "metadata": {},
   "outputs": [],
   "source": [
    "start = 35*60\n",
    "window = 1*60\n",
    "plt.plot(df['time'][start*50:(start+window)*50],df['AFE1_bpm'][start*50:(start+window)*50])\n",
    "plt.plot(df['time'][start*50:(start+window)*50],df['AFE2_bpm'][start*50:(start+window)*50])\n",
    "plt.plot(df['time'][start*50:(start+window)*50],df['AFE3_bpm'][start*50:(start+window)*50])\n",
    "plt.plot(df['time'][start*50:(start+window)*50],df['AFE4_bpm'][start*50:(start+window)*50])\n",
    "plt.plot(df['time'][start*50:(start+window)*50],df['AFE5_bpm'][start*50:(start+window)*50])\n",
    "plt.show()"
   ]
  },
  {
   "cell_type": "code",
   "execution_count": null,
   "id": "014df56a",
   "metadata": {},
   "outputs": [],
   "source": [
    "df = pd.read_feather('test')\n",
    "df"
   ]
  },
  {
   "cell_type": "code",
   "execution_count": null,
   "metadata": {},
   "outputs": [],
   "source": [
    "stats_df2 = stats_df.filter(regex=\"|\".join(['p_x']), axis=1)\n",
    "stats_df2.columns\n",
    "plt.plot()"
   ]
  },
  {
   "cell_type": "code",
   "execution_count": null,
   "id": "7c37aea2",
   "metadata": {},
   "outputs": [],
   "source": [
    "channel = 'test'\n",
    "dfx = df\n",
    "df.add_prefix(f'{channel}_')"
   ]
  },
  {
   "cell_type": "code",
   "execution_count": null,
   "id": "44c7de90",
   "metadata": {},
   "outputs": [],
   "source": [
    "df['t0'] = df['segment_indices'][0][0]/50\n",
    "df['t1'] = df['segment_indices'][0][1]/50"
   ]
  },
  {
   "cell_type": "code",
   "execution_count": null,
   "id": "6dc4650d",
   "metadata": {},
   "outputs": [],
   "source": [
    "df[df.columns[pd.Series(df.columns).str.startswith('AFE2')]]"
   ]
  },
  {
   "cell_type": "code",
   "execution_count": null,
   "id": "7a4617a1",
   "metadata": {},
   "outputs": [],
   "source": [
    "plt.plot(df['time'][0:1000],df['AFE2_filtered'][0:1000])"
   ]
  },
  {
   "cell_type": "code",
   "execution_count": null,
   "id": "b36c2080",
   "metadata": {},
   "outputs": [],
   "source": [
    "stats_df[stats_df.columns[pd.Series(stats_df.columns).str.startswith('AFE2')]]"
   ]
  },
  {
   "cell_type": "code",
   "execution_count": null,
   "id": "9f50514d",
   "metadata": {},
   "outputs": [],
   "source": []
  },
  {
   "cell_type": "code",
   "execution_count": null,
   "id": "52cf9555",
   "metadata": {},
   "outputs": [],
   "source": [
    "df = pd.DataFrame(measures)\n",
    "df"
   ]
  },
  {
   "cell_type": "code",
   "execution_count": null,
   "id": "ef0654e9",
   "metadata": {},
   "outputs": [],
   "source": []
  },
  {
   "cell_type": "code",
   "execution_count": null,
   "id": "ad969875",
   "metadata": {},
   "outputs": [],
   "source": [
    "print(len(df1),len(df2),len(df3),len(df4))\n",
    "pd.concat([df1,df2],ignore_index=True)"
   ]
  },
  {
   "cell_type": "code",
   "execution_count": null,
   "id": "c2ac3a08",
   "metadata": {},
   "outputs": [],
   "source": [
    "from utils.physio import physio_summary_segmentwise\n",
    "data = physio_summary_segmentwise(afe_df['AFE2_filtered'].to_list(),segment_width = 10, segment_overlap = 0.90)\n",
    "len(data['bpm'])"
   ]
  },
  {
   "cell_type": "code",
   "execution_count": null,
   "id": "608e3a61",
   "metadata": {},
   "outputs": [],
   "source": [
    "channel = 'LED1_filtered'\n",
    "f_x, f_y = find_peaks(df[channel],start_t=start)\n",
    "plt.scatter(f_x, f_y)\n",
    "plt.plot(df['time'],df[channel])\n",
    "plt.show()"
   ]
  },
  {
   "cell_type": "code",
   "execution_count": null,
   "id": "d65517de",
   "metadata": {},
   "outputs": [],
   "source": [
    "channel = 'LED1'\n",
    "f_x, f_y = find_peaks(df[f'{channel}_filtered'],start_t=start)\n",
    "plt.plot(df['time'],df[f'{channel}_filtered'])\n",
    "\n",
    "notch_threshold = 0\n",
    "diff = f'{channel}_diff'\n",
    "intercept = []\n",
    "intercept_y = []\n",
    "k = 1\n",
    "while k < len(df):\n",
    "    if df[diff][k-1] > notch_threshold and df[diff][k] < notch_threshold:\n",
    "        #intercept.append(df['time'][k])\n",
    "        #intercept_y.append(df[f'{channel}_filtered'][k])\n",
    "        pass\n",
    "    if df[diff][k-1] < notch_threshold and df[diff][k] > notch_threshold:\n",
    "        intercept.append(df['time'][k])\n",
    "        intercept_y.append(df[f'{channel}_filtered'][k])\n",
    "    k = k + 1\n",
    "\n",
    "plt.scatter(intercept,intercept_y)"
   ]
  },
  {
   "cell_type": "code",
   "execution_count": null,
   "metadata": {},
   "outputs": [],
   "source": [
    "physio_df = physio_summary(afe_df=afe_df.filter(led_filters),sensor_df=sensor_df.filter(sensor_selector),explicit=True) \n",
    "physio_df = physio_df.T"
   ]
  },
  {
   "cell_type": "code",
   "execution_count": null,
   "metadata": {},
   "outputs": [],
   "source": [
    "ch1"
   ]
  },
  {
   "cell_type": "code",
   "execution_count": null,
   "id": "ecfe52d2",
   "metadata": {},
   "outputs": [],
   "source": [
    "def ptt(ch1,ch2):\n",
    "    k = 0\n",
    "    ptt = []\n",
    "    while k < len(ch1) and k < len(ch2):\n",
    "        ptt.append(ch1[k] - ch2[k])\n",
    "        k = k + 1\n",
    "    df = pd.DataFrame([ch1,ch2,ptt])\n",
    "    return df.T\n",
    "df = ptt(led3_peaks,led1_peaks)\n",
    "df"
   ]
  },
  {
   "cell_type": "code",
   "execution_count": null,
   "id": "04978a93",
   "metadata": {},
   "outputs": [],
   "source": [
    "\n",
    "filter_max = 8\n",
    "filter_min = 0.5\n",
    "filter_order =12\n",
    "start = 0\n",
    "window = 10\n",
    "segment_width = 10\n",
    "window_df = optics_df[(optics_df['time'] > start) & (optics_df['time'] < start+window)]\n",
    "window_df2 = sensor_df[(sensor_df['time'] > start) & (sensor_df['time'] < start+window)]\n",
    "for channel in window_df.columns:\n",
    "    window_df[channel] = signal.sosfilt(sos, window_df[channel])\n",
    "df = physio_summary(window_df,window_df2,explicit=True)\n",
    "df.T"
   ]
  },
  {
   "cell_type": "code",
   "execution_count": null,
   "metadata": {},
   "outputs": [],
   "source": [
    "df"
   ]
  },
  {
   "cell_type": "code",
   "execution_count": null,
   "id": "56908cd5",
   "metadata": {},
   "outputs": [],
   "source": [
    "summary.keys()"
   ]
  },
  {
   "cell_type": "code",
   "execution_count": null,
   "id": "3d84d29e",
   "metadata": {},
   "outputs": [],
   "source": [
    "from heartpy.datautils import rolling_mean\n",
    "rol_mean = rolling_mean(filtered_data, windowsize = 7, sample_rate = 250.0)\n",
    "wd = hp.peakdetection.fit_peaks(filtered_data, rol_mean, sample_rate = 250.0)\n",
    "wd.keys()"
   ]
  },
  {
   "cell_type": "code",
   "execution_count": null,
   "id": "1b8dbab2",
   "metadata": {},
   "outputs": [],
   "source": [
    "wd = hp.peakdetection.check_peaks(wd['RR_list'], wd['peaklist'], wd['ybeat'])#, reject_segmentwise=False)"
   ]
  },
  {
   "cell_type": "code",
   "execution_count": null,
   "id": "1abecad6",
   "metadata": {},
   "outputs": [],
   "source": [
    "plt.plot([x/60 for x in wd['peaklist']],wd['ybeat'])"
   ]
  },
  {
   "cell_type": "code",
   "execution_count": null,
   "id": "15eb4bf9",
   "metadata": {},
   "outputs": [],
   "source": [
    "plt.plot(wd['rolling_mean']*60)"
   ]
  },
  {
   "cell_type": "code",
   "execution_count": null,
   "id": "f8f918e8",
   "metadata": {},
   "outputs": [],
   "source": [
    "plt.plot(wd['RR_diff'])"
   ]
  },
  {
   "cell_type": "code",
   "execution_count": null,
   "id": "a3b200b4",
   "metadata": {},
   "outputs": [],
   "source": [
    "wd.keys()"
   ]
  },
  {
   "cell_type": "code",
   "execution_count": null,
   "id": "92620b8b",
   "metadata": {},
   "outputs": [],
   "source": [
    "from utils.physio import wsst\n",
    "import plotly.express as px\n",
    "normal_df['all_optics'] = normal_df[\"LED1\"] + normal_df[\"LED3\"]\n",
    "x,y,z = wsst(normal_df['all_optics'],optics_freq)#,freq_limits=[0.5,4])"
   ]
  },
  {
   "cell_type": "code",
   "execution_count": null,
   "id": "04d6d882",
   "metadata": {},
   "outputs": [],
   "source": [
    "import matplotlib.pyplot as plt\n",
    "\n",
    "fig, ax = plt.subplots()\n",
    "ax.pcolormesh(x, y*60, z)"
   ]
  },
  {
   "cell_type": "code",
   "execution_count": null,
   "id": "ef25d8f9",
   "metadata": {},
   "outputs": [],
   "source": [
    "from plotly.subplots import make_subplots\n",
    "fig = make_subplots(rows=1, cols=1,\n",
    "                        shared_xaxes=True,\n",
    "                        vertical_spacing=0.02)\n",
    "\n",
    "\n",
    "df = optics_df[optics_df['time'] < 10]\n",
    "\n",
    "peakind = signal.find_peaks_cwt(df['LED3'], np.arange(1,10))\n",
    "fig.add_scatter(x=df['time'], y=df['LED3'],row=1, col=1,name='LED1')#,marker=dict(color=afe_colors[0]))\n",
    "           \n",
    "\n",
    "for peak in peakind:\n",
    "    fig.add_vline(x=df['time'][peakind[peak]], row='all',col='all')\n",
    "\n",
    "fig.update_layout(coloraxis_showscale=False)\n",
    "fig.show()"
   ]
  },
  {
   "cell_type": "code",
   "execution_count": null,
   "id": "64914eed",
   "metadata": {},
   "outputs": [],
   "source": [
    "df['time'][peakind]"
   ]
  },
  {
   "cell_type": "code",
   "execution_count": null,
   "id": "7215e851",
   "metadata": {},
   "outputs": [],
   "source": [
    "import numpy as np\n",
    "bpm = f_wsst[np.argmax(psd_wsst, axis=0)]*60\n",
    "sos = signal.butter(3, 0.2, btype='lowpass', fs=250,output='sos')\n",
    "filtered_bpm = signal.sosfilt(sos, bpm)"
   ]
  },
  {
   "cell_type": "code",
   "execution_count": null,
   "id": "1eafdccf",
   "metadata": {},
   "outputs": [],
   "source": [
    "plt.plot(t_wsst,bpm)\n",
    "plt.plot(t_wsst,filtered_bpm)"
   ]
  },
  {
   "cell_type": "code",
   "execution_count": null,
   "metadata": {},
   "outputs": [],
   "source": [
    "wavelet(filtered_data,fs,freq_limits=[filter_min,filter_max])"
   ]
  },
  {
   "cell_type": "code",
   "execution_count": null,
   "metadata": {},
   "outputs": [],
   "source": [
    "# Zoom in on a particular window of time\n",
    "t1 = 274\n",
    "t2 = 278.5\n",
    "\n",
    "with h5py.File('data/example_data.h5', 'r') as hf:\n",
    "    lfp = hf['lfp'][:]\n",
    "    lfp_ts = hf['timestamps'][:]\n",
    "    speed = hf['speed'][:]\n",
    "    ts_pos = hf['speed_timestamps'][:]\n",
    "\n",
    "\n",
    "idx = (lfp_ts >= t1) & (lfp_ts <= t2)\n",
    "\n",
    "LFP = lfp[idx]\n",
    "ts = lfp_ts[idx]\n",
    "\n",
    "idx = (ts_pos >= t1) & (ts_pos <= t2)\n",
    "\n",
    "spd = speed[idx]\n",
    "ts_spd = ts_pos[idx]\n",
    "\n",
    "fs_lfp = 1500\n",
    "\n",
    "gamma = 3 \n",
    "beta = 10 # decrease beta to improve temporal resolution\n",
    "\n",
    "cwtcoefs, _, freq, cwtts, _ = gsp.cwt(\n",
    "    LFP, timestamps=ts, freq_limits=[1, 250], fs=fs_lfp,\n",
    "    wavelet=gsp.MorseWavelet(gamma=gamma, beta=beta))\n",
    "\n",
    "cwt_power = cwtcoefs.imag**2 + cwtcoefs.real**2\n",
    "\n",
    "plt.rcParams.update({'axes.spines.right': False, 'axes.spines.top': False})\n",
    "fig, axes = plt.subplots(3, 1, figsize=(6, 4), sharex=True, \n",
    "                         gridspec_kw={'hspace':0.15, 'height_ratios':[0.1,0.9,0.2]})\n",
    "ax1, ax2, ax3 = axes\n",
    "\n",
    "ax1.plot(ts_spd, spd)\n",
    "ax1.set_ylim(-1, 10)\n",
    "ax1.set_ylabel(\"Speed\\n(cm/s)\", labelpad=10)\n",
    "ax1.tick_params(axis='x', which='both', bottom=False, top=False)\n",
    "\n",
    "t_ax, f_ax = np.meshgrid(ts, freq)\n",
    "ax2.pcolormesh(t_ax, f_ax, cwt_power, shading='gouraud', \n",
    "               cmap=plt.cm.viridis, vmin=0, vmax=12500)\n",
    "ax2.set_ylabel(\"Frequency (Hz)\")\n",
    "ax2.set_ylim(1, 250)\n",
    "ax2.tick_params(axis='x', which='both', bottom=False, top=False)\n",
    "\n",
    "ax3.plot(ts, LFP, 'grey', linewidth=0.5)\n"
   ]
  },
  {
   "cell_type": "code",
   "execution_count": null,
   "id": "6475e0fa",
   "metadata": {},
   "outputs": [],
   "source": [
    "import pandas as pd\n",
    "audit_df = pd.read_csv('hs22_132a_audit.txt').dropna()"
   ]
  },
  {
   "cell_type": "code",
   "execution_count": null,
   "id": "e80058a2",
   "metadata": {},
   "outputs": [],
   "source": [
    "events = audit_df.event.unique()\n",
    "\n",
    "for event in events:\n",
    "    print(event)"
   ]
  },
  {
   "cell_type": "code",
   "execution_count": null,
   "id": "af6edc50",
   "metadata": {},
   "outputs": [],
   "source": [
    "!pip install heartpy"
   ]
  },
  {
   "cell_type": "code",
   "execution_count": null,
   "id": "59c7a1ff",
   "metadata": {},
   "outputs": [],
   "source": [
    "import heartpy as hp\n",
    "\n",
    "#load example data\n",
    "data, _ = hp.load_exampledata(0) #this example set is sampled at 100Hz\n",
    "\n",
    "#working_data, measures = hp.process(data, 100.0)"
   ]
  },
  {
   "cell_type": "code",
   "execution_count": null,
   "id": "c0970232",
   "metadata": {},
   "outputs": [],
   "source": [
    "working_data, measures = hp.process(raw_data, 250.0)"
   ]
  },
  {
   "cell_type": "code",
   "execution_count": null,
   "id": "650d3a09",
   "metadata": {},
   "outputs": [],
   "source": [
    "measures"
   ]
  },
  {
   "cell_type": "code",
   "execution_count": null,
   "id": "5d3b00da",
   "metadata": {},
   "outputs": [],
   "source": [
    "fig = hp.plotter(working_data, measures)"
   ]
  }
 ],
 "metadata": {
  "kernelspec": {
   "display_name": "Python 3.9.13 64-bit (windows store)",
   "language": "python",
   "name": "python3"
  },
  "language_info": {
   "codemirror_mode": {
    "name": "ipython",
    "version": 3
   },
   "file_extension": ".py",
   "mimetype": "text/x-python",
   "name": "python",
   "nbconvert_exporter": "python",
   "pygments_lexer": "ipython3",
   "version": "3.9.13"
  },
  "vscode": {
   "interpreter": {
    "hash": "0b2bac09af1f7fe8c9345908e3de212cdedd6d4c6518bf986cfd34e7011cbf4b"
   }
  }
 },
 "nbformat": 4,
 "nbformat_minor": 5
}
